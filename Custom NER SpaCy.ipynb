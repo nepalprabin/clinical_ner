{
 "cells": [
  {
   "cell_type": "code",
   "execution_count": null,
   "id": "79a4c864",
   "metadata": {},
   "outputs": [],
   "source": [
    "# ! pip install spacy"
   ]
  },
  {
   "cell_type": "code",
   "execution_count": null,
   "id": "e7add467",
   "metadata": {},
   "outputs": [],
   "source": [
    "# ! python -m spacy download en_core_web_lg"
   ]
  },
  {
   "cell_type": "code",
   "execution_count": 1,
   "id": "030ac92d",
   "metadata": {},
   "outputs": [],
   "source": [
    "import spacy"
   ]
  },
  {
   "cell_type": "code",
   "execution_count": 2,
   "id": "1c0e574d",
   "metadata": {},
   "outputs": [],
   "source": [
    "nlp = spacy.load('en_core_web_lg')"
   ]
  },
  {
   "cell_type": "code",
   "execution_count": 3,
   "id": "8325ffe0",
   "metadata": {},
   "outputs": [],
   "source": [
    "doc = nlp(\"Nepal is a country situated in the South Asian region\")"
   ]
  },
  {
   "cell_type": "code",
   "execution_count": 4,
   "id": "072bf3c4",
   "metadata": {},
   "outputs": [
    {
     "data": {
      "text/plain": [
       "(Nepal, South Asian)"
      ]
     },
     "execution_count": 4,
     "metadata": {},
     "output_type": "execute_result"
    }
   ],
   "source": [
    "doc.ents"
   ]
  },
  {
   "cell_type": "code",
   "execution_count": 5,
   "id": "853bbbaf",
   "metadata": {},
   "outputs": [
    {
     "data": {
      "text/plain": [
       "(Nepal, spacy.tokens.span.Span)"
      ]
     },
     "execution_count": 5,
     "metadata": {},
     "output_type": "execute_result"
    }
   ],
   "source": [
    "doc.ents[0], type(doc.ents[0])"
   ]
  },
  {
   "cell_type": "code",
   "execution_count": 6,
   "id": "648b37db",
   "metadata": {},
   "outputs": [
    {
     "data": {
      "text/html": [
       "<span class=\"tex2jax_ignore\"><div class=\"entities\" style=\"line-height: 2.5; direction: ltr\">\n",
       "<mark class=\"entity\" style=\"background: #feca74; padding: 0.45em 0.6em; margin: 0 0.25em; line-height: 1; border-radius: 0.35em;\">\n",
       "    Nepal\n",
       "    <span style=\"font-size: 0.8em; font-weight: bold; line-height: 1; border-radius: 0.35em; vertical-align: middle; margin-left: 0.5rem\">GPE</span>\n",
       "</mark>\n",
       " is a country situated in the \n",
       "<mark class=\"entity\" style=\"background: #c887fb; padding: 0.45em 0.6em; margin: 0 0.25em; line-height: 1; border-radius: 0.35em;\">\n",
       "    South Asian\n",
       "    <span style=\"font-size: 0.8em; font-weight: bold; line-height: 1; border-radius: 0.35em; vertical-align: middle; margin-left: 0.5rem\">NORP</span>\n",
       "</mark>\n",
       " region</div></span>"
      ],
      "text/plain": [
       "<IPython.core.display.HTML object>"
      ]
     },
     "metadata": {},
     "output_type": "display_data"
    }
   ],
   "source": [
    "from spacy import displacy\n",
    "displacy.render(doc, style='ent', jupyter=True)"
   ]
  },
  {
   "cell_type": "code",
   "execution_count": 7,
   "id": "2f0b591f",
   "metadata": {},
   "outputs": [],
   "source": [
    "import json\n",
    "file = '/Users/prabinnepal/Downloads/Corona2.json'"
   ]
  },
  {
   "cell_type": "code",
   "execution_count": 8,
   "id": "4f82a976",
   "metadata": {},
   "outputs": [],
   "source": [
    "with open(file, 'r') as f:\n",
    "    data=json.load(f)\n",
    "#     print(lines)"
   ]
  },
  {
   "cell_type": "code",
   "execution_count": 9,
   "id": "f4978278",
   "metadata": {},
   "outputs": [
    {
     "data": {
      "text/plain": [
       "{'id': '18c2f619-f102-452f-ab81-d26f7e283ffe',\n",
       " 'content': \"While bismuth compounds (Pepto-Bismol) decreased the number of bowel movements in those with travelers' diarrhea, they do not decrease the length of illness.[91] Anti-motility agents like loperamide are also effective at reducing the number of stools but not the duration of disease.[8] These agents should be used only if bloody diarrhea is not present.[92]\\n\\nDiosmectite, a natural aluminomagnesium silicate clay, is effective in alleviating symptoms of acute diarrhea in children,[93] and also has some effects in chronic functional diarrhea, radiation-induced diarrhea, and chemotherapy-induced diarrhea.[45] Another absorbent agent used for the treatment of mild diarrhea is kaopectate.\\n\\nRacecadotril an antisecretory medication may be used to treat diarrhea in children and adults.[86] It has better tolerability than loperamide, as it causes less constipation and flatulence.[94]\",\n",
       " 'metadata': {},\n",
       " 'annotations': [{'id': '0825a1bf-6a6e-4fa2-be77-8d104701eaed',\n",
       "   'tag_id': 'c06bd022-6ded-44a5-8d90-f17685bb85a1',\n",
       "   'end': 371,\n",
       "   'start': 360,\n",
       "   'example_id': '18c2f619-f102-452f-ab81-d26f7e283ffe',\n",
       "   'tag_name': 'Medicine',\n",
       "   'value': 'Diosmectite',\n",
       "   'correct': None,\n",
       "   'human_annotations': [{'timestamp': '2020-03-21T00:24:32.098000Z',\n",
       "     'annotator_id': 1,\n",
       "     'tagged_token_id': '0825a1bf-6a6e-4fa2-be77-8d104701eaed',\n",
       "     'name': 'Ashpat123',\n",
       "     'reason': 'exploration'}],\n",
       "   'model_annotations': []},\n",
       "  {'id': '145f62b1-bbf5-42f1-8ad5-9c7e08337bf0',\n",
       "   'tag_id': 'c06bd022-6ded-44a5-8d90-f17685bb85a1',\n",
       "   'end': 408,\n",
       "   'start': 383,\n",
       "   'example_id': '18c2f619-f102-452f-ab81-d26f7e283ffe',\n",
       "   'tag_name': 'Medicine',\n",
       "   'value': 'aluminomagnesium silicate',\n",
       "   'correct': None,\n",
       "   'human_annotations': [{'timestamp': '2020-03-21T00:24:43.692000Z',\n",
       "     'annotator_id': 1,\n",
       "     'tagged_token_id': '145f62b1-bbf5-42f1-8ad5-9c7e08337bf0',\n",
       "     'name': 'Ashpat123',\n",
       "     'reason': 'exploration'}],\n",
       "   'model_annotations': []},\n",
       "  {'id': '243efeb2-723f-4be4-933c-fbbf7e0f9903',\n",
       "   'tag_id': '03eb3e50-d4d8-4261-a60b-fa5aee5deb4a',\n",
       "   'end': 112,\n",
       "   'start': 104,\n",
       "   'example_id': '18c2f619-f102-452f-ab81-d26f7e283ffe',\n",
       "   'tag_name': 'MedicalCondition',\n",
       "   'value': 'diarrhea',\n",
       "   'correct': None,\n",
       "   'human_annotations': [{'timestamp': '2020-03-21T00:24:09.423000Z',\n",
       "     'annotator_id': 1,\n",
       "     'tagged_token_id': '243efeb2-723f-4be4-933c-fbbf7e0f9903',\n",
       "     'name': 'Ashpat123',\n",
       "     'reason': 'exploration'}],\n",
       "   'model_annotations': []},\n",
       "  {'id': '281f49d3-879a-4409-b09e-4cfae019af16',\n",
       "   'tag_id': 'c06bd022-6ded-44a5-8d90-f17685bb85a1',\n",
       "   'end': 689,\n",
       "   'start': 679,\n",
       "   'example_id': '18c2f619-f102-452f-ab81-d26f7e283ffe',\n",
       "   'tag_name': 'Medicine',\n",
       "   'value': 'kaopectate',\n",
       "   'correct': None,\n",
       "   'human_annotations': [{'timestamp': '2020-03-21T00:25:38.366000Z',\n",
       "     'annotator_id': 1,\n",
       "     'tagged_token_id': '281f49d3-879a-4409-b09e-4cfae019af16',\n",
       "     'name': 'Ashpat123',\n",
       "     'reason': 'exploration'}],\n",
       "   'model_annotations': []},\n",
       "  {'id': '32fdf9e7-63f7-442a-8e25-f08ea4ad94d5',\n",
       "   'tag_id': 'c06bd022-6ded-44a5-8d90-f17685bb85a1',\n",
       "   'end': 23,\n",
       "   'start': 6,\n",
       "   'example_id': '18c2f619-f102-452f-ab81-d26f7e283ffe',\n",
       "   'tag_name': 'Medicine',\n",
       "   'value': 'bismuth compounds',\n",
       "   'correct': None,\n",
       "   'human_annotations': [{'timestamp': '2020-03-21T00:23:46.721000Z',\n",
       "     'annotator_id': 1,\n",
       "     'tagged_token_id': '32fdf9e7-63f7-442a-8e25-f08ea4ad94d5',\n",
       "     'name': 'Ashpat123',\n",
       "     'reason': 'exploration'}],\n",
       "   'model_annotations': []},\n",
       "  {'id': '392094d2-febf-4074-a2ca-4c0082f4e5b8',\n",
       "   'tag_id': 'c06bd022-6ded-44a5-8d90-f17685bb85a1',\n",
       "   'end': 37,\n",
       "   'start': 25,\n",
       "   'example_id': '18c2f619-f102-452f-ab81-d26f7e283ffe',\n",
       "   'tag_name': 'Medicine',\n",
       "   'value': 'Pepto-Bismol',\n",
       "   'correct': None,\n",
       "   'human_annotations': [{'timestamp': '2020-03-21T00:23:58.861000Z',\n",
       "     'annotator_id': 1,\n",
       "     'tagged_token_id': '392094d2-febf-4074-a2ca-4c0082f4e5b8',\n",
       "     'name': 'Ashpat123',\n",
       "     'reason': 'exploration'}],\n",
       "   'model_annotations': []},\n",
       "  {'id': '450b8c30-cf2e-4774-96d9-58b4160bea38',\n",
       "   'tag_id': '03eb3e50-d4d8-4261-a60b-fa5aee5deb4a',\n",
       "   'end': 470,\n",
       "   'start': 461,\n",
       "   'example_id': '18c2f619-f102-452f-ab81-d26f7e283ffe',\n",
       "   'tag_name': 'MedicalCondition',\n",
       "   'value': 'diarrhea ',\n",
       "   'correct': None,\n",
       "   'human_annotations': [],\n",
       "   'model_annotations': []},\n",
       "  {'id': '6b73f683-7130-4e16-bcc2-e3cc8cf89f4d',\n",
       "   'tag_id': 'c06bd022-6ded-44a5-8d90-f17685bb85a1',\n",
       "   'end': 589,\n",
       "   'start': 577,\n",
       "   'example_id': '18c2f619-f102-452f-ab81-d26f7e283ffe',\n",
       "   'tag_name': 'Medicine',\n",
       "   'value': 'chemotherapy',\n",
       "   'correct': None,\n",
       "   'human_annotations': [{'timestamp': '2020-03-21T00:25:24.179000Z',\n",
       "     'annotator_id': 1,\n",
       "     'tagged_token_id': '6b73f683-7130-4e16-bcc2-e3cc8cf89f4d',\n",
       "     'name': 'Ashpat123',\n",
       "     'reason': 'exploration'}],\n",
       "   'model_annotations': []},\n",
       "  {'id': '74574b7f-d535-48e1-8651-2708adcfe453',\n",
       "   'tag_id': '03eb3e50-d4d8-4261-a60b-fa5aee5deb4a',\n",
       "   'end': 865,\n",
       "   'start': 853,\n",
       "   'example_id': '18c2f619-f102-452f-ab81-d26f7e283ffe',\n",
       "   'tag_name': 'MedicalCondition',\n",
       "   'value': 'constipation',\n",
       "   'correct': None,\n",
       "   'human_annotations': [{'timestamp': '2020-03-21T00:26:31.676000Z',\n",
       "     'annotator_id': 1,\n",
       "     'tagged_token_id': '74574b7f-d535-48e1-8651-2708adcfe453',\n",
       "     'name': 'Ashpat123',\n",
       "     'reason': 'exploration'}],\n",
       "   'model_annotations': []},\n",
       "  {'id': '7572ab8e-ae99-400c-b4ab-ed46fbc9f97e',\n",
       "   'tag_id': 'c06bd022-6ded-44a5-8d90-f17685bb85a1',\n",
       "   'end': 198,\n",
       "   'start': 188,\n",
       "   'example_id': '18c2f619-f102-452f-ab81-d26f7e283ffe',\n",
       "   'tag_name': 'Medicine',\n",
       "   'value': 'loperamide',\n",
       "   'correct': None,\n",
       "   'human_annotations': [{'timestamp': '2020-03-21T00:24:17.680000Z',\n",
       "     'annotator_id': 1,\n",
       "     'tagged_token_id': '7572ab8e-ae99-400c-b4ab-ed46fbc9f97e',\n",
       "     'name': 'Ashpat123',\n",
       "     'reason': 'exploration'}],\n",
       "   'model_annotations': []},\n",
       "  {'id': '800e6c6c-0bfb-4819-a25a-34f759753457',\n",
       "   'tag_id': '03eb3e50-d4d8-4261-a60b-fa5aee5deb4a',\n",
       "   'end': 762,\n",
       "   'start': 754,\n",
       "   'example_id': '18c2f619-f102-452f-ab81-d26f7e283ffe',\n",
       "   'tag_name': 'MedicalCondition',\n",
       "   'value': 'diarrhea',\n",
       "   'correct': None,\n",
       "   'human_annotations': [{'timestamp': '2020-03-21T00:26:07.368000Z',\n",
       "     'annotator_id': 1,\n",
       "     'tagged_token_id': '800e6c6c-0bfb-4819-a25a-34f759753457',\n",
       "     'name': 'Ashpat123',\n",
       "     'reason': 'exploration'}],\n",
       "   'model_annotations': []},\n",
       "  {'id': '8214556a-7584-4d9b-86cd-5e09137ad904',\n",
       "   'tag_id': '03eb3e50-d4d8-4261-a60b-fa5aee5deb4a',\n",
       "   'end': 880,\n",
       "   'start': 870,\n",
       "   'example_id': '18c2f619-f102-452f-ab81-d26f7e283ffe',\n",
       "   'tag_name': 'MedicalCondition',\n",
       "   'value': 'flatulence',\n",
       "   'correct': None,\n",
       "   'human_annotations': [{'timestamp': '2020-03-21T00:26:41.322000Z',\n",
       "     'annotator_id': 1,\n",
       "     'tagged_token_id': '8214556a-7584-4d9b-86cd-5e09137ad904',\n",
       "     'name': 'Ashpat123',\n",
       "     'reason': 'exploration'}],\n",
       "   'model_annotations': []},\n",
       "  {'id': '98968e14-6756-4174-9d3d-7abd58b3aa34',\n",
       "   'tag_id': 'c06bd022-6ded-44a5-8d90-f17685bb85a1',\n",
       "   'end': 833,\n",
       "   'start': 823,\n",
       "   'example_id': '18c2f619-f102-452f-ab81-d26f7e283ffe',\n",
       "   'tag_name': 'Medicine',\n",
       "   'value': 'loperamide',\n",
       "   'correct': None,\n",
       "   'human_annotations': [{'timestamp': '2020-03-21T00:26:12.759000Z',\n",
       "     'annotator_id': 1,\n",
       "     'tagged_token_id': '98968e14-6756-4174-9d3d-7abd58b3aa34',\n",
       "     'name': 'Ashpat123',\n",
       "     'reason': 'exploration'}],\n",
       "   'model_annotations': []},\n",
       "  {'id': 'a0a03c7b-cfad-41ee-9f5c-f8a802475994',\n",
       "   'tag_id': '03eb3e50-d4d8-4261-a60b-fa5aee5deb4a',\n",
       "   'end': 853,\n",
       "   'start': 852,\n",
       "   'example_id': '18c2f619-f102-452f-ab81-d26f7e283ffe',\n",
       "   'tag_name': 'MedicalCondition',\n",
       "   'value': ' ',\n",
       "   'correct': None,\n",
       "   'human_annotations': [],\n",
       "   'model_annotations': []},\n",
       "  {'id': 'bfbddfd4-38aa-43a7-9366-24c95829ac8c',\n",
       "   'tag_id': '03eb3e50-d4d8-4261-a60b-fa5aee5deb4a',\n",
       "   'end': 469,\n",
       "   'start': 461,\n",
       "   'example_id': '18c2f619-f102-452f-ab81-d26f7e283ffe',\n",
       "   'tag_name': 'MedicalCondition',\n",
       "   'value': 'diarrhea',\n",
       "   'correct': None,\n",
       "   'human_annotations': [{'timestamp': '2020-03-21T00:25:06.921000Z',\n",
       "     'annotator_id': 1,\n",
       "     'tagged_token_id': 'bfbddfd4-38aa-43a7-9366-24c95829ac8c',\n",
       "     'name': 'Ashpat123',\n",
       "     'reason': 'exploration'}],\n",
       "   'model_annotations': []},\n",
       "  {'id': 'd7d68c18-0d8e-4547-a2fa-81fdcaf3080e',\n",
       "   'tag_id': '03eb3e50-d4d8-4261-a60b-fa5aee5deb4a',\n",
       "   'end': 543,\n",
       "   'start': 535,\n",
       "   'example_id': '18c2f619-f102-452f-ab81-d26f7e283ffe',\n",
       "   'tag_name': 'MedicalCondition',\n",
       "   'value': 'diarrhea',\n",
       "   'correct': None,\n",
       "   'human_annotations': [{'timestamp': '2020-03-21T00:25:12.203000Z',\n",
       "     'annotator_id': 1,\n",
       "     'tagged_token_id': 'd7d68c18-0d8e-4547-a2fa-81fdcaf3080e',\n",
       "     'name': 'Ashpat123',\n",
       "     'reason': 'exploration'}],\n",
       "   'model_annotations': []},\n",
       "  {'id': 'ee956220-42a4-4a91-b9f0-75019c4f5dd9',\n",
       "   'tag_id': 'c06bd022-6ded-44a5-8d90-f17685bb85a1',\n",
       "   'end': 704,\n",
       "   'start': 692,\n",
       "   'example_id': '18c2f619-f102-452f-ab81-d26f7e283ffe',\n",
       "   'tag_name': 'Medicine',\n",
       "   'value': 'Racecadotril',\n",
       "   'correct': None,\n",
       "   'human_annotations': [{'timestamp': '2020-03-21T00:25:56.503000Z',\n",
       "     'annotator_id': 1,\n",
       "     'tagged_token_id': 'ee956220-42a4-4a91-b9f0-75019c4f5dd9',\n",
       "     'name': 'Ashpat123',\n",
       "     'reason': 'exploration'}],\n",
       "   'model_annotations': []},\n",
       "  {'id': 'f04a6b7e-8904-405c-9301-e4543238b7a5',\n",
       "   'tag_id': '03eb3e50-d4d8-4261-a60b-fa5aee5deb4a',\n",
       "   'end': 571,\n",
       "   'start': 563,\n",
       "   'example_id': '18c2f619-f102-452f-ab81-d26f7e283ffe',\n",
       "   'tag_name': 'MedicalCondition',\n",
       "   'value': 'diarrhea',\n",
       "   'correct': None,\n",
       "   'human_annotations': [{'timestamp': '2020-03-21T00:25:18.043000Z',\n",
       "     'annotator_id': 1,\n",
       "     'tagged_token_id': 'f04a6b7e-8904-405c-9301-e4543238b7a5',\n",
       "     'name': 'Ashpat123',\n",
       "     'reason': 'exploration'}],\n",
       "   'model_annotations': []}],\n",
       " 'classifications': []}"
      ]
     },
     "execution_count": 9,
     "metadata": {},
     "output_type": "execute_result"
    }
   ],
   "source": [
    "data['examples'][0]"
   ]
  },
  {
   "cell_type": "code",
   "execution_count": 10,
   "id": "500a9000",
   "metadata": {},
   "outputs": [
    {
     "name": "stdout",
     "output_type": "stream",
     "text": [
      "{'classes': ['MEDICINE', 'MEDICALCONDITION', 'PATHOGEN'], 'annotations': [{'text': \"While bismuth compounds (Pepto-Bismol) decreased the number of bowel movements in those with travelers' diarrhea, they do not decrease the length of illness.[91] Anti-motility agents like loperamide are also effective at reducing the number of stools but not the duration of disease.[8] These agents should be used only if bloody diarrhea is not present.[92]\\n\\nDiosmectite, a natural aluminomagnesium silicate clay, is effective in alleviating symptoms of acute diarrhea in children,[93] and also has some effects in chronic functional diarrhea, radiation-induced diarrhea, and chemotherapy-induced diarrhea.[45] Another absorbent agent used for the treatment of mild diarrhea is kaopectate.\\n\\nRacecadotril an antisecretory medication may be used to treat diarrhea in children and adults.[86] It has better tolerability than loperamide, as it causes less constipation and flatulence.[94]\", 'entities': [(360, 371, 'MEDICINE'), (383, 408, 'MEDICINE'), (104, 112, 'MEDICALCONDITION'), (679, 689, 'MEDICINE'), (6, 23, 'MEDICINE'), (25, 37, 'MEDICINE'), (461, 470, 'MEDICALCONDITION'), (577, 589, 'MEDICINE'), (853, 865, 'MEDICALCONDITION'), (188, 198, 'MEDICINE'), (754, 762, 'MEDICALCONDITION'), (870, 880, 'MEDICALCONDITION'), (823, 833, 'MEDICINE'), (852, 853, 'MEDICALCONDITION'), (461, 469, 'MEDICALCONDITION'), (535, 543, 'MEDICALCONDITION'), (692, 704, 'MEDICINE'), (563, 571, 'MEDICALCONDITION')]}, {'text': 'Diarrhea, also spelled diarrhoea, is the condition of having at least three loose, liquid, or watery bowel movements each day.[2] It often lasts for a few days and can result in dehydration due to fluid loss.[2] Signs of dehydration often begin with loss of the normal stretchiness of the skin and irritable behaviour.[2] This can progress to decreased urination, loss of skin color, a fast heart rate, and a decrease in responsiveness as it becomes more severe.[2] Loose but non-watery stools in babies who are exclusively breastfed, however, are normal.[2]', 'entities': [(364, 382, 'MEDICALCONDITION'), (0, 8, 'MEDICALCONDITION'), (94, 116, 'MEDICALCONDITION'), (178, 189, 'MEDICALCONDITION'), (221, 232, 'MEDICALCONDITION'), (23, 32, 'MEDICALCONDITION'), (409, 435, 'MEDICALCONDITION'), (386, 401, 'MEDICALCONDITION')]}, {'text': 'Antiretroviral therapy (ART) is recommended for all HIV-infected individuals to reduce the risk of disease progression.\\nART also is recommended for HIV-infected individuals for the prevention of transmission of HIV.\\nPatients starting ART should be willing and able to commit to treatment and understand the benefits and risks of therapy and the importance of adherence. Patients may choose to postpone therapy, and providers, on a case-by-case basis, may elect to defer therapy on the basis of clinical and/or psychosocial factors.', 'entities': [(0, 22, 'MEDICINE'), (24, 27, 'MEDICINE'), (120, 123, 'MEDICINE'), (211, 214, 'PATHOGEN'), (52, 55, 'PATHOGEN'), (234, 237, 'MEDICINE'), (148, 151, 'PATHOGEN')]}, {'text': 'The following drugs are considered as DMARDs: methotrexate, hydroxychloroquine, sulfasalazine, leflunomide, TNF-alpha inhibitors (certolizumab, infliximab and etanercept), abatacept, and anakinra. Rituximab and tocilizumab are monoclonal antibodies and are also DMARDs.[8] Use of tocilizumab is associated with a risk of increased cholesterol levels.[87]\\n\\nHydroxychloroquine, apart from its low toxicity profile, is considered effective in the moderate RA treatment.[88]\\n\\nThe most commonly used agent is methotrexate with other frequently used agents including sulfasalazine and leflunomide.[8] Leflunomide is effective when used from 6–12 months, with similar effectiveness to methotrexate when used for 2 years.[89] Sulfasalazine also appears to be most effective in the short-term treatment of rheumatoid arthritis.[90] Sodium aurothiomalate (gold) and cyclosporin are less commonly used due to more common adverse effects.[8] However, cyclosporin was found to be effective in the progressive RA when used up to one year.[91] Agents may be used in combinations however, people may experience greater side effects.[8][92] Methotrexate is the most important and useful DMARD and is usually the first treatment.[8][5][93] A combined approach with methotrexate and biologics improves ACR50, HAQ scores and RA remission rates.[94] Triple therapy consisting of methotrexate, sulfasalazine and hydroxychloroquine may also effectively control disease activity.[95] Adverse effects should be monitored regularly with toxicity including gastrointestinal, hematologic, pulmonary, and hepatic.[93] Side effects such as nausea, vomiting or abdominal pain can be reduced by taking folic acid.[96]', 'entities': [(1211, 1589, 'MEDICALCONDITION'), (38, 44, 'MEDICINE'), (356, 374, 'MEDICINE'), (939, 950, 'MEDICINE'), (1638, 1639, 'MEDICALCONDITION'), (1212, 1588, 'MEDICALCONDITION'), (262, 269, 'MEDICALCONDITION'), (60, 78, 'MEDICINE'), (718, 731, 'MEDICINE'), (227, 248, 'MEDICINE'), (678, 690, 'MEDICINE'), (197, 206, 'MEDICINE'), (1372, 1385, 'MEDICINE'), (856, 867, 'MEDICINE'), (159, 169, 'MEDICINE'), (130, 142, 'MEDICINE'), (262, 268, 'MEDICINE'), (561, 574, 'MEDICINE'), (108, 128, 'MEDICINE'), (1670, 1680, 'MEDICALCONDITION'), (80, 106, 'MEDICINE'), (1610, 1616, 'MEDICALCONDITION'), (453, 465, 'MEDICINE'), (797, 817, 'MEDICALCONDITION'), (595, 606, 'MEDICINE'), (46, 58, 'MEDICINE'), (823, 844, 'MEDICINE'), (1124, 1136, 'MEDICINE'), (1630, 1644, 'MEDICALCONDITION'), (579, 590, 'MEDICINE'), (1358, 1370, 'MEDICINE'), (1618, 1626, 'MEDICINE'), (504, 516, 'MEDICINE'), (144, 154, 'MEDICINE'), (1390, 1408, 'MEDICINE'), (81, 106, 'MEDICALCONDITION'), (211, 222, 'MEDICINE'), (280, 291, 'MEDICINE')]}, {'text': \"The goals of treatment are to reduce pain, decrease inflammation, and improve a person's overall functioning.[5] This may be helped by balancing rest and exercise, the use of splints and braces, or the use of assistive devices.[1][6][7] Pain medications, steroids, and NSAIDs are frequently used to help with symptoms.[1] Disease-modifying antirheumatic drugs (DMARDs), such as hydroxychloroquine and methotrexate, may be used to try to slow the progression of disease.[1] Biological DMARDs may be used when disease does not respond to other treatments.[8] However, they may have a greater rate of adverse effects.[9] Surgery to repair, replace, or fuse joints may help in certain situations.[1] Most alternative medicine treatments are not supported by evidence.[10][11]\", 'entities': [(401, 413, 'MEDICINE'), (378, 396, 'MEDICINE'), (473, 490, 'MEDICINE'), (255, 263, 'MEDICINE')]}, {'text': \"Hantaviruses, usually found in rodents and shrews, were discovered in two species of bats. The Mouyassué virus (MOUV) was isolated from banana pipistrelle bats captured near Mouyassué village in Cote d'Ivoire, West Africa. The Magboi virus was isolated from hairy slit-faced bats found near the Magboi River in Sierra Leone in 2011. They are single-stranded, negative sense, RNA viruses in the Bunyaviridae family.[29][30][31][32]\", 'entities': [(0, 12, 'PATHOGEN'), (394, 406, 'PATHOGEN'), (227, 239, 'PATHOGEN'), (95, 110, 'PATHOGEN')]}, {'text': 'Bats are the most common source of rabies in humans in North and South America, Western Europe, and Australia. In the United States, there were 19 cases of human rabies from 1997–2006, 17 of which were attributed to bats.[27] In North America, about half of human rabies instances are cryptic, meaning that the patient has no known bite history.[24] While it has been speculated that rabies virus could be transmitted through aerosols, studies of the rabies virus have concluded that this is only feasible in limited conditions. These conditions include a very large colony of bats in a hot and humid cave with poor ventilation. While two human deaths in 1956 and 1959 had been tentatively attributed to aerosolization of the rabies virus after entering a cave with bats, \"investigations of the 2 reported human cases revealed that both infections could be explained by means other than aerosol transmission\".[28] It is instead generally thought that most instances of cryptic rabies are the result of an unknown bat bite.[24] Bites from a bat can be so small that they are not visible without magnification equipment, for example. Outside of bites, rabies virus exposure can also occur if infected fluids come in contact with a mucous membrane or a break in the skin. Rabies virus has also been transmitted when an infected human unknowingly dies of rabies, and their organs are transplanted to others.[28]', 'entities': [(35, 41, 'MEDICALCONDITION'), (162, 168, 'MEDICALCONDITION'), (165, 167, 'MEDICALCONDITION'), (384, 396, 'PATHOGEN'), (1269, 1281, 'PATHOGEN'), (1343, 1347, 'MEDICALCONDITION'), (977, 983, 'MEDICALCONDITION'), (1027, 1032, 'MEDICALCONDITION')]}, {'text': 'In 2003, following the outbreak of severe acute respiratory syndrome (SARS) which had begun the prior year in Asia, and secondary cases elsewhere in the world, the World Health Organization (WHO) issued a press release stating that a novel coronavirus identified by a number of laboratories was the causative agent for SARS. The virus was officially named the SARS coronavirus (SARS-CoV). More than 8,000 people were infected, about ten percent of whom died.[25]', 'entities': [(35, 68, 'MEDICALCONDITION'), (240, 252, 'MEDICALCONDITION'), (70, 74, 'MEDICALCONDITION'), (453, 457, 'MEDICALCONDITION'), (240, 251, 'PATHOGEN'), (360, 376, 'PATHOGEN'), (319, 323, 'MEDICALCONDITION'), (378, 386, 'PATHOGEN')]}, {'text': 'Bacterial vaginosis is caused by bacteria that change the vaginal microbiota caused by an overgrowth of bacteria that crowd out the Lactobacilli species that maintain healthy vaginal microbial populations.\\nOther non-bacterial vaginal infections include: yeast infection (candidiasis), Trichomonas vaginalis (trichomoniasis).[8][9]\\nBacterial meningitis is a bacterial inflammation of the meninges, that is, the protective membranes covering the brain and spinal cord.\\nBacterial pneumonia is a bacterial infection of the lungs.\\nUrinary tract infection is predominantly caused by bacteria. Symptoms include the strong and frequent sensation or urge to urinate, pain during urination, and urine that is cloudy.[10] The main causal agent is Escherichia coli. Urine is typically sterile but contains a variety of salts, and waste products.[11] Bacteria can ascend into the bladder or kidney and causing cystitis and nephritis.\\nBacterial gastroenteritis is caused by enteric, pathogenic bacteria. These pathogenic species are usually distinct from the usually harmless bacteria of the normal gut flora. But a different strain of the same species may be pathogenic. The distinction is sometimes difficult as in the case of Escherichia.\\nBacterial skin infections include:\\nImpetigo is a highly contagious bacterial skin infection commonly seen in children.[12] It is caused by Staphylococcus aureus, and Streptococcus pyogenes.[13]\\nErysipelas is an acute streptococcus bacterial infection[14] of the deeper skin layers that spreads via with lymphatic system.\\nCellulitis is a diffuse inflammation[15] of connective tissue with severe inflammation of dermal and subcutaneous layers of the skin. Cellulitis can be caused by normal skin flora or by contagious contact, and usually occurs through open skin, cuts, blisters, cracks in the skin, insect bites, animal bites, burns, surgical wounds, intravenous drug injection, or sites of intravenous catheter insertion. In most cases it is the skin on the face or lower legs that is affected, though cellulitis can occur in other tissues.', 'entities': [(271, 282, 'MEDICALCONDITION'), (0, 19, 'PATHOGEN'), (1305, 1319, 'MEDICALCONDITION'), (33, 42, 'PATHOGEN'), (897, 905, 'MEDICALCONDITION'), (1799, 1807, 'MEDICALCONDITION'), (1549, 1559, 'MEDICALCONDITION'), (658, 679, 'MEDICALCONDITION'), (226, 244, 'MEDICALCONDITION'), (1422, 1432, 'PATHOGEN'), (1367, 1388, 'PATHOGEN'), (921, 946, 'PATHOGEN'), (1864, 1879, 'MEDICALCONDITION'), (1394, 1416, 'PATHOGEN'), (286, 300, 'MEDICALCONDITION'), (357, 379, 'PATHOGEN'), (467, 486, 'PATHOGEN'), (254, 269, 'MEDICALCONDITION'), (1623, 1635, 'MEDICALCONDITION'), (910, 919, 'MEDICALCONDITION'), (1809, 1827, 'MEDICALCONDITION'), (1881, 1907, 'MEDICINE'), (1573, 1585, 'MEDICALCONDITION'), (1843, 1855, 'MEDICALCONDITION'), (33, 41, 'PATHOGEN'), (1921, 1951, 'MEDICINE'), (1683, 1693, 'MEDICALCONDITION'), (1623, 1636, 'MEDICALCONDITION'), (132, 144, 'PATHOGEN'), (331, 351, 'PATHOGEN'), (1215, 1226, 'PATHOGEN'), (285, 306, 'PATHOGEN'), (736, 752, 'PATHOGEN')]}, {'text': 'Other groups of intracellular bacterial pathogens include Salmonella, Neisseria, Brucella, Mycobacterium, Nocardia, Listeria, Francisella, Legionella, and Yersinia pestis. These can exist intracellularly, but can exist outside of host cells.', 'entities': [(116, 124, 'PATHOGEN'), (155, 170, 'PATHOGEN'), (126, 137, 'PATHOGEN'), (70, 79, 'PATHOGEN'), (139, 149, 'PATHOGEN'), (106, 114, 'PATHOGEN'), (91, 104, 'PATHOGEN'), (81, 89, 'PATHOGEN'), (58, 68, 'PATHOGEN')]}, {'text': 'One of the bacterial diseases with the highest disease burden is tuberculosis, caused by Mycobacterium tuberculosis bacteria, which kills about 2 million people a year, mostly in sub-Saharan Africa. Pathogenic bacteria contribute to other globally important diseases, such as pneumonia, which can be caused by bacteria such as Streptococcus and Pseudomonas, and foodborne illnesses, which can be caused by bacteria such as Shigella, Campylobacter, and Salmonella. Pathogenic bacteria also cause infections such as tetanus, typhoid fever, diphtheria, syphilis, and leprosy. Pathogenic bacteria are also the cause of high infant mortality rates in developing countries.[3]', 'entities': [(327, 340, 'PATHOGEN'), (514, 521, 'MEDICALCONDITION'), (513, 522, 'MEDICALCONDITION'), (433, 447, 'PATHOGEN'), (452, 462, 'PATHOGEN'), (276, 285, 'MEDICALCONDITION'), (523, 536, 'MEDICALCONDITION'), (564, 571, 'MEDICALCONDITION'), (433, 446, 'PATHOGEN'), (538, 548, 'MEDICALCONDITION'), (345, 356, 'PATHOGEN'), (65, 77, 'MEDICALCONDITION'), (550, 558, 'MEDICALCONDITION'), (524, 536, 'MEDICALCONDITION'), (89, 115, 'PATHOGEN'), (423, 431, 'PATHOGEN')]}, {'text': \"Although the vast majority of bacteria are harmless or beneficial to one's body, a few pathogenic bacteria can cause infectious diseases. The most common bacterial disease is tuberculosis, caused by the bacterium Mycobacterium tuberculosis, which affects about 2 million people mostly in sub-Saharan Africa. Pathogenic bacteria contribute to other globally important diseases, such as pneumonia, which can be caused by bacteria such as Streptococcus and Pseudomonas, and foodborne illnesses, which can be caused by bacteria such as Shigella, Campylobacter, and Salmonella. Pathogenic bacteria also cause infections such as tetanus, typhoid fever, diphtheria, syphilis, and Hansen's disease. They typically range between 1 and 5 micrometers in length.\", 'entities': [(659, 667, 'MEDICALCONDITION'), (436, 449, 'PATHOGEN'), (673, 689, 'MEDICALCONDITION'), (30, 38, 'PATHOGEN'), (454, 465, 'PATHOGEN'), (647, 657, 'MEDICALCONDITION'), (87, 106, 'PATHOGEN'), (542, 554, 'MEDICALCONDITION'), (532, 540, 'PATHOGEN'), (30, 39, 'PATHOGEN'), (561, 571, 'PATHOGEN'), (623, 630, 'MEDICALCONDITION'), (471, 490, 'MEDICALCONDITION'), (632, 645, 'MEDICALCONDITION'), (542, 555, 'PATHOGEN'), (648, 667, 'MEDICALCONDITION')]}, {'text': 'Much like viral pathogens, infection by certain bacterial pathogens can be prevented via vaccines.[30] Vaccines against bacterial pathogens include the anthrax vaccine and the pneumococcal vaccine. Many other bacterial pathogens lack vaccines as a preventive measure, but infection by these bacteria can often be treated or prevented with antibiotics. Common antibiotics include amoxicillin, ciprofloxacin, and doxycycline. Each antibiotic has different bacteria that it is effective against and has different mechanisms to kill that bacteria. For example, doxycycline inhibits the synthesis of new proteins in both gram-negative and gram-positive bacteria which leads to the death of the affected bacteria.[35]', 'entities': [(379, 390, 'MEDICINE'), (152, 167, 'MEDICINE'), (411, 422, 'MEDICINE'), (392, 405, 'MEDICINE'), (176, 196, 'MEDICINE')]}, {'text': 'The term pathogen came into use in the 1880s.[1][2] Typically, the term is used to describe an infectious microorganism or agent, such as a virus, bacterium, protozoan, prion, viroid, or fungus.[', 'entities': [(158, 167, 'PATHOGEN'), (95, 119, 'PATHOGEN'), (187, 193, 'PATHOGEN'), (147, 156, 'PATHOGEN'), (140, 145, 'PATHOGEN')]}, {'text': \"Some antidepressants are used as a treatment for social anxiety disorder, but their efficacy is not entirely convincing, as only a small proportion of antidepressants showed some efficacy for this condition. Paroxetine was the first drug to be FDA-approved for this disorder. Its efficacy is considered beneficial, although not everyone responds favorably to the drug. Sertraline and fluvoxamine extended release were later approved for it as well, while escitalopram is used off-label with acceptable efficacy. However, there isn't enough evidence to support citalopram for treating social phobia, and fluoxetine was no better than placebo in clinical trials. SSRIs are used as a first-line treatment for social anxiety, but they don't work for everyone. One alternative would be venlafaxine, which is a SNRI. It showed benefits for social phobia in five clinical trials against placebo, while the other SNRIs are not considered particularly useful for this disorder as many of them didn't undergo testing for it. As of now, it is unclear if duloxetine and desvenlafaxine can provide benefits for social anxiety sufferers. However, another class of antidepressants called MAOIs are considered effective for social anxiety, but they come with many unwanted side effects and are rarely used. Phenelzine was shown to be a good treatment option, but its use is limited by dietary restrictions. Moclobemide is a RIMA and showed mixed results but still got approval in some European countries for social anxiety disorder. TCA antidepressants, such as clomipramine and imipramine, are not considered effective for this anxiety disorder in particular. This leaves out SSRIs such as paroxetine, sertraline and fluvoxamine CR as acceptable and tolerated treatment options for this disorder.[19][20]\", 'entities': [(384, 395, 'MEDICINE'), (1098, 1112, 'MEDICALCONDITION'), (1687, 1697, 'MEDICINE'), (49, 72, 'MEDICALCONDITION'), (1173, 1178, 'MEDICINE'), (1702, 1713, 'MEDICINE'), (781, 792, 'MEDICINE'), (1563, 1573, 'MEDICINE'), (48, 72, 'MEDICALCONDITION'), (603, 613, 'MEDICINE'), (1675, 1685, 'MEDICALCONDITION'), (1613, 1629, 'MEDICALCONDITION'), (369, 379, 'MEDICINE'), (1291, 1301, 'MEDICINE'), (1546, 1558, 'MEDICINE'), (1394, 1402, 'MEDICALCONDITION'), (835, 848, 'MEDICALCONDITION'), (1106, 1112, 'MEDICALCONDITION'), (1391, 1392, 'MEDICALCONDITION'), (455, 467, 'MEDICINE'), (1391, 1402, 'MEDICINE'), (584, 597, 'MEDICALCONDITION')]}, {'text': \"However, existing data suggest that patients taking bedaquiline in addition to standard TB therapy are five times more likely to die than those without the new drug,[184] which has resulted in medical journal articles raising health policy questions about why the FDA approved the drug and whether financial ties to the company making bedaquiline influenced physicians' support for its use.[183][185]\", 'entities': [(88, 98, 'MEDICINE'), (335, 346, 'MEDICINE'), (52, 63, 'MEDICINE')]}, {'text': 'Latent TB is treated with either isoniazid or rifampin alone, or a combination of isoniazid with either rifampicin or rifapentine.[90][91][92]\\n\\nThe treatment takes three to nine months depending on the medications used.[51][90][93][92] People with latent infections are treated to prevent them from progressing to active TB disease later in life.[94]', 'entities': [(118, 129, 'MEDICINE'), (33, 42, 'MEDICINE'), (46, 54, 'MEDICINE'), (82, 91, 'MEDICINE'), (33, 43, 'MEDICALCONDITION'), (104, 114, 'MEDICINE')]}, {'text': 'If a tuberculosis infection does become active, it most commonly involves the lungs (in about 90% of cases).[14][17] Symptoms may include chest pain and a prolonged cough producing sputum. About 25% of people may not have any symptoms (i.e. they remain \"asymptomatic\").[14] Occasionally, people may cough up blood in small amounts, and in very rare cases, the infection may erode into the pulmonary artery or a Rasmussen\\'s aneurysm, resulting in massive bleeding.[9][18] Tuberculosis may become a chronic illness and cause extensive scarring in the upper lobes of the lungs. The upper lung lobes are more frequently affected by tuberculosis than the lower ones.[9] The reason for this difference is not clear.[13] It may be due to either better air flow,[13] or poor lymph drainage within the upper lungs.[', 'entities': [(523, 541, 'MEDICALCONDITION'), (138, 148, 'MEDICALCONDITION'), (155, 170, 'MEDICALCONDITION'), (299, 313, 'MEDICALCONDITION'), (446, 462, 'MEDICALCONDITION')]}, {'text': 'Tuberculosis may infect any part of the body, but most commonly occurs in the lungs (known as pulmonary tuberculosis).[9] Extrapulmonary TB occurs when tuberculosis develops outside of the lungs, although extrapulmonary TB may coexist with pulmonary TB.[9]\\n\\nGeneral signs and symptoms include fever, chills, night sweats, loss of appetite, weight loss, and fatigue.[9] Significant nail clubbing may also occur.[16]', 'entities': []}, {'text': 'A number of factors make people more susceptible to TB infections. The most important risk factor globally is HIV; 13% of all people with TB are infected by the virus.[39] This is a particular problem in sub-Saharan Africa, where rates of HIV are high.[40][41] Of people without HIV who are infected with tuberculosis, about 5–10% develop active disease during their lifetimes;[16] in contrast, 30% of those coinfected with HIV develop the active disease.[16]', 'entities': [(279, 283, 'PATHOGEN'), (279, 282, 'PATHOGEN')]}, {'text': 'In 15–20% of active cases, the infection spreads outside the lungs, causing other kinds of TB.[19] These are collectively denoted as \"extrapulmonary tuberculosis\".[20] Extrapulmonary TB occurs more commonly in people with a weakened immune system and young children. In those with HIV, this occurs in more than 50% of cases.[20] Notable extrapulmonary infection sites include the pleura (in tuberculous pleurisy), the central nervous system (in tuberculous meningitis), the lymphatic system (in scrofula of the neck), the genitourinary system (in urogenital tuberculosis), and the bones and joints (in Pott disease of the spine), among others. A potentially more serious, widespread form of TB is called \"disseminated tuberculosis\", it is also known as miliary tuberculosis.[9] Miliary TB currently makes up about 10% of extrapulmonary cases.[21]', 'entities': [(134, 161, 'MEDICALCONDITION'), (753, 773, 'MEDICALCONDITION'), (337, 361, 'MEDICALCONDITION'), (445, 467, 'MEDICALCONDITION')]}, {'text': 'Although viruses cause disruption of healthy homeostasis, resulting in disease, they may exist relatively harmlessly within an organism. An example would include the ability of the herpes simplex virus, which causes cold sores, to remain in a dormant state within the human body. This is called latency[153] and is a characteristic of the herpes viruses, including Epstein–Barr virus, which causes glandular fever, and varicella zoster virus, which causes chickenpox and shingles. Most people have been infected with at least one of these types of herpes virus.[154] These latent viruses might sometimes be beneficial, as the presence of the virus can increase immunity against bacterial pathogens, such as Yersinia pestis.[155]', 'entities': [(456, 466, 'MEDICALCONDITION'), (471, 479, 'MEDICALCONDITION'), (419, 441, 'PATHOGEN'), (365, 383, 'PATHOGEN'), (707, 722, 'PATHOGEN'), (181, 201, 'PATHOGEN'), (456, 467, 'MEDICALCONDITION')]}, {'text': 'Examples of common human diseases caused by viruses include the common cold, influenza, chickenpox, and cold sores. Many serious diseases such as rabies, Ebola virus disease, AIDS (HIV), avian influenza, and SARS are caused by viruses. The relative ability of viruses to cause disease is described in terms of virulence. Other diseases are under investigation to discover if they have a virus as the causative agent, such as the possible connection between human herpesvirus 6 (HHV6) and neurological diseases such as multiple sclerosis and chronic fatigue syndrome.[151] There is controversy over whether the bornavirus, previously thought to cause neurological diseases in horses, could be responsible for psychiatric illnesses in humans.[152]', 'entities': [(518, 536, 'MEDICALCONDITION'), (154, 165, 'PATHOGEN'), (708, 729, 'MEDICALCONDITION'), (463, 476, 'PATHOGEN'), (77, 86, 'MEDICALCONDITION'), (88, 98, 'MEDICALCONDITION'), (187, 202, 'MEDICALCONDITION'), (610, 620, 'PATHOGEN')]}, {'text': \"All medical applications known so far involve not pure adamantane, but its derivatives. The first adamantane derivative used as a drug was amantadine – first (1967) as an antiviral drug against various strains of flu[50] and then to treat Parkinson's disease.[51][52] Other drugs among adamantane derivatives include adapalene, adapromine, bromantane, carmantadine, chlodantane, dopamantine, memantine, rimantadine, saxagliptin, tromantadine, and vildagliptin. Polymers of adamantane have been patented as antiviral agents against HIV.[53]\", 'entities': [(239, 258, 'MEDICALCONDITION'), (55, 65, 'MEDICINE'), (531, 534, 'PATHOGEN'), (416, 427, 'MEDICINE'), (379, 390, 'MEDICINE'), (352, 364, 'MEDICINE'), (139, 149, 'MEDICINE')]}, {'text': 'Buprenorphine has been shown experimentally (1982–1995) to be effective against severe, refractory depression', 'entities': [(0, 13, 'MEDICINE'), (88, 109, 'MEDICALCONDITION'), (0, 14, 'MEDICALCONDITION')]}, {'text': 'Gabapentin, approved for treatment of seizures and postherpetic neuralgia in adults, has side-effects which are useful in treating bipolar disorder1, essential tremor, hot flashes, migraine prophylaxis, neuropathic pain syndromes, phantom limb syndrome, and restless leg syndrome.[11]', 'entities': [(203, 229, 'MEDICALCONDITION'), (258, 279, 'MEDICALCONDITION'), (181, 201, 'MEDICALCONDITION'), (51, 73, 'MEDICALCONDITION'), (0, 10, 'MEDICINE'), (38, 46, 'MEDICALCONDITION')]}, {'text': 'Bupropion (Wellbutrin), an anti-depressant, is also used as a smoking cessation aid; this indication was later approved, and the name of the smoking cessation product is Zyban. In Ontario, Canada, smoking cessation drugs are not covered by provincial drug plans; elsewhere, Zyban is priced higher than Wellbutrin, despite being the same drug. Therefore, some physicians prescribe Wellbutrin for both indications.[', 'entities': [(274, 279, 'MEDICINE'), (11, 21, 'MEDICINE'), (302, 312, 'MEDICINE'), (301, 312, 'MEDICALCONDITION'), (380, 390, 'MEDICINE'), (170, 175, 'MEDICINE'), (0, 9, 'MEDICINE')]}, {'text': 'Carbamazepine is an approved treatment for bipolar disorder and epileptic seizures, but it has side effects useful in treating attention-deficit hyperactivity disorder (ADHD), schizophrenia, phantom limb syndrome, paroxysmal extreme pain disorder, neuromyotonia, and post-traumatic stress disorder.[8]', 'entities': [(267, 288, 'MEDICALCONDITION'), (248, 261, 'MEDICALCONDITION'), (0, 13, 'MEDICINE'), (43, 59, 'MEDICALCONDITION'), (145, 167, 'MEDICALCONDITION'), (0, 14, 'MEDICALCONDITION'), (176, 189, 'MEDICALCONDITION'), (64, 82, 'MEDICALCONDITION'), (191, 212, 'MEDICALCONDITION')]}, {'text': 'The antiviral drugs amantadine and rimantadine inhibit a viral ion channel (M2 protein), thus inhibiting replication of the influenza A virus.[86] These drugs are sometimes effective against influenza A if given early in the infection but are ineffective against influenza B viruses, which lack the M2 drug target.[160] Measured resistance to amantadine and rimantadine in American isolates of H3N2 has increased to 91% in 2005.[161] This high level of resistance may be due to the easy availability of amantadines as part of over-the-counter cold remedies in countries such as China and Russia,[162] and their use to prevent outbreaks of influenza in farmed poultry.[163][164] The CDC recommended against using M2 inhibitors during the 2005–06 influenza season due to high levels of drug resistance.[165]', 'entities': [(639, 648, 'MEDICALCONDITION'), (35, 46, 'MEDICINE'), (712, 725, 'MEDICINE'), (20, 30, 'MEDICINE')]}, {'text': 'The two classes of antiviral drugs used against influenza are neuraminidase inhibitors (oseltamivir, zanamivir, laninamivir and peramivir) and M2 protein inhibitors (adamantane derivatives)', 'entities': [(128, 137, 'MEDICINE'), (48, 58, 'MEDICALCONDITION'), (101, 110, 'MEDICINE'), (112, 123, 'MEDICINE'), (112, 124, 'MEDICALCONDITION'), (48, 57, 'MEDICALCONDITION'), (88, 99, 'MEDICINE')]}, {'text': 'Influenza, commonly known as \"the flu\", is an infectious disease caused by an influenza virus.[1] Symptoms can be mild to severe.[5] The most common symptoms include: high fever, runny nose, sore throat, muscle and joint pain, headache, coughing, and feeling tired.[1] These symptoms typically begin two days after exposure to the virus and most last less than a week.[1] The cough, however, may last for more than two weeks.[1] In children, there may be diarrhea and vomiting, but these are not common in adults.[6] Diarrhea and vomiting occur more commonly in gastroenteritis, which is an unrelated disease and sometimes inaccurately referred to as \"stomach flu\" or the \"24-hour flu\".[6] Complications of influenza may include viral pneumonia, secondary bacterial pneumonia, sinus infections, and worsening of previous health problems such as asthma or heart failure.[2][5]', 'entities': [(191, 202, 'MEDICALCONDITION'), (0, 9, 'MEDICALCONDITION'), (845, 852, 'MEDICALCONDITION'), (756, 775, 'PATHOGEN'), (468, 476, 'MEDICALCONDITION'), (227, 235, 'MEDICALCONDITION'), (845, 851, 'MEDICALCONDITION'), (237, 245, 'MEDICALCONDITION'), (777, 793, 'MEDICALCONDITION'), (855, 868, 'MEDICALCONDITION'), (215, 225, 'MEDICALCONDITION'), (652, 663, 'MEDICALCONDITION'), (455, 464, 'MEDICALCONDITION'), (251, 264, 'MEDICALCONDITION'), (455, 463, 'MEDICALCONDITION'), (78, 93, 'PATHOGEN')]}]}\n"
     ]
    }
   ],
   "source": [
    "# Creating training data\n",
    "training_data = {'classes' : ['MEDICINE', \"MEDICALCONDITION\", \"PATHOGEN\"], 'annotations' : []}\n",
    "for example in data['examples']:\n",
    "    \n",
    "    temp_dict = {}\n",
    "    temp_dict['text'] = example['content']\n",
    "    temp_dict['entities'] = []\n",
    "    for annotation in example['annotations']:\n",
    "        start = annotation['start']\n",
    "        end = annotation['end']\n",
    "        label = annotation['tag_name'].upper()\n",
    "        temp_dict['entities'].append((start, end, label))\n",
    "    training_data['annotations'].append(temp_dict)\n",
    "\n",
    "print(training_data)"
   ]
  },
  {
   "cell_type": "code",
   "execution_count": 11,
   "id": "7e14a2f1",
   "metadata": {},
   "outputs": [],
   "source": [
    "# spacy uses docBin for annotated classes, so we need to create DocBin object for our training examples\n",
    "from spacy.tokens import DocBin\n"
   ]
  },
  {
   "cell_type": "code",
   "execution_count": 12,
   "id": "e25a8ced",
   "metadata": {},
   "outputs": [],
   "source": [
    "nlp = spacy.blank('en')\n",
    "doc_bin=DocBin()"
   ]
  },
  {
   "cell_type": "code",
   "execution_count": 14,
   "id": "2cf0b96e",
   "metadata": {},
   "outputs": [
    {
     "name": "stdout",
     "output_type": "stream",
     "text": [
      "Skipping entity\n",
      "Skipping entity\n",
      "Skipping entity\n",
      "Skipping entity\n",
      "Skipping entity\n",
      "Skipping entity\n",
      "Skipping entity\n",
      "Skipping entity\n",
      "Skipping entity\n",
      "Skipping entity\n",
      "Skipping entity\n",
      "Skipping entity\n",
      "Skipping entity\n",
      "Skipping entity\n",
      "Skipping entity\n",
      "Skipping entity\n"
     ]
    }
   ],
   "source": [
    "from spacy.util import filter_spans\n",
    "\n",
    "for training_example in training_data['annotations']:\n",
    "    text = training_example['text']\n",
    "    labels = training_example['entities']\n",
    "    doc = nlp.make_doc(text)\n",
    "    ents = []\n",
    "    for start, end, label in labels:\n",
    "        span = doc.char_span(start, end, label=label, alignment_mode='contract')\n",
    "        if span is None:\n",
    "            print('Skipping entity')\n",
    "        else:\n",
    "            ents.append(span)\n",
    "    filtered_ents = filter_spans(ents)\n",
    "    doc.ents = filtered_ents\n",
    "    doc_bin.add(doc)\n",
    "\n",
    "doc_bin.to_disk('training_data.spacy')"
   ]
  },
  {
   "cell_type": "code",
   "execution_count": 17,
   "id": "638dd4a7",
   "metadata": {},
   "outputs": [
    {
     "name": "stdout",
     "output_type": "stream",
     "text": [
      "\u001b[38;5;2m✔ Auto-filled config with all values\u001b[0m\r\n",
      "\u001b[38;5;2m✔ Saved config\u001b[0m\r\n",
      "config.cfg\r\n",
      "You can now add your data and train your pipeline:\r\n",
      "python -m spacy train config.cfg --paths.train ./train.spacy --paths.dev ./dev.spacy\r\n"
     ]
    }
   ],
   "source": [
    "! python -m spacy init fill-config base_config.cfg config.cfg"
   ]
  },
  {
   "cell_type": "code",
   "execution_count": 18,
   "id": "34aeae72",
   "metadata": {},
   "outputs": [
    {
     "name": "stdout",
     "output_type": "stream",
     "text": [
      "\u001b[38;5;4mℹ Saving to output directory: output\u001b[0m\n",
      "\u001b[38;5;4mℹ Using CPU\u001b[0m\n",
      "\u001b[38;5;4mℹ To switch to GPU 0, use the option: --gpu-id 0\u001b[0m\n",
      "\u001b[1m\n",
      "=========================== Initializing pipeline ===========================\u001b[0m\n",
      "[2023-03-07 13:03:15,352] [INFO] Set up nlp object from config\n",
      "[2023-03-07 13:03:15,356] [INFO] Pipeline: ['tok2vec', 'ner']\n",
      "[2023-03-07 13:03:15,358] [INFO] Created vocabulary\n",
      "[2023-03-07 13:03:16,003] [INFO] Added vectors: en_core_web_lg\n",
      "[2023-03-07 13:03:17,714] [INFO] Finished initializing nlp object\n",
      "[2023-03-07 13:03:21,609] [INFO] Initialized pipeline components: ['tok2vec', 'ner']\n",
      "\u001b[38;5;2m✔ Initialized pipeline\u001b[0m\n",
      "\u001b[1m\n",
      "============================= Training pipeline =============================\u001b[0m\n",
      "\u001b[38;5;4mℹ Pipeline: ['tok2vec', 'ner']\u001b[0m\n",
      "\u001b[38;5;4mℹ Initial learn rate: 0.001\u001b[0m\n",
      "E    #       LOSS TOK2VEC  LOSS NER  ENTS_F  ENTS_P  ENTS_R  SCORE \n",
      "---  ------  ------------  --------  ------  ------  ------  ------\n",
      "  0       0          0.00     59.36    0.00    0.00    0.00    0.00\n",
      "  3     200        325.87   3270.19   70.42   72.02   68.90    0.70\n",
      "  7     400         82.63   1001.90   91.09   89.69   92.52    0.91\n",
      " 10     600         81.64    467.22   94.57   96.71   92.52    0.95\n",
      " 15     800        938.60    469.74   96.63   97.21   96.06    0.97\n",
      " 20    1000        102.27    283.53   96.40   97.97   94.88    0.96\n",
      " 25    1200        113.81    273.29   97.02   97.99   96.06    0.97\n",
      " 32    1400        278.35    287.18   98.43   98.43   98.43    0.98\n",
      " 40    1600        302.42    196.30   98.81   99.21   98.43    0.99\n",
      " 50    1800        763.27    215.97   98.62   98.43   98.82    0.99\n",
      " 63    2000        141.54    237.65   98.82   98.82   98.82    0.99\n",
      " 79    2200        404.77    247.36   98.05   97.29   98.82    0.98\n",
      " 99    2400         98.56    274.05   98.82   98.44   99.21    0.99\n",
      "123    2600        499.09    540.59   98.82   98.82   98.82    0.99\n",
      "148    2800        188.68    322.80   98.81   99.21   98.43    0.99\n",
      "172    3000         45.98    293.04   98.82   98.82   98.82    0.99\n",
      "^C\n"
     ]
    }
   ],
   "source": [
    "! python -m spacy train config.cfg --output ./output --paths.train ./training_data.spacy --paths.dev ./training_data.spacy"
   ]
  },
  {
   "cell_type": "code",
   "execution_count": 21,
   "id": "f262829b",
   "metadata": {},
   "outputs": [
    {
     "data": {
      "text/html": [
       "<span class=\"tex2jax_ignore\"><div class=\"entities\" style=\"line-height: 2.5; direction: ltr\">\n",
       "<mark class=\"entity\" style=\"background: #7DF6D9; padding: 0.45em 0.6em; margin: 0 0.25em; line-height: 1; border-radius: 0.35em;\">\n",
       "    Antiretroviral therapy\n",
       "    <span style=\"font-size: 0.8em; font-weight: bold; line-height: 1; border-radius: 0.35em; vertical-align: middle; margin-left: 0.5rem\">MEDICINE</span>\n",
       "</mark>\n",
       " (\n",
       "<mark class=\"entity\" style=\"background: #7DF6D9; padding: 0.45em 0.6em; margin: 0 0.25em; line-height: 1; border-radius: 0.35em;\">\n",
       "    ART\n",
       "    <span style=\"font-size: 0.8em; font-weight: bold; line-height: 1; border-radius: 0.35em; vertical-align: middle; margin-left: 0.5rem\">MEDICINE</span>\n",
       "</mark>\n",
       ") is recommended for all HIV-infectedindividuals to reduce the risk of disease progression.</br>\n",
       "<mark class=\"entity\" style=\"background: #7DF6D9; padding: 0.45em 0.6em; margin: 0 0.25em; line-height: 1; border-radius: 0.35em;\">\n",
       "    ART\n",
       "    <span style=\"font-size: 0.8em; font-weight: bold; line-height: 1; border-radius: 0.35em; vertical-align: middle; margin-left: 0.5rem\">MEDICINE</span>\n",
       "</mark>\n",
       " also is recommended for \n",
       "<mark class=\"entity\" style=\"background: #F67DE3; padding: 0.45em 0.6em; margin: 0 0.25em; line-height: 1; border-radius: 0.35em;\">\n",
       "    HIV\n",
       "    <span style=\"font-size: 0.8em; font-weight: bold; line-height: 1; border-radius: 0.35em; vertical-align: middle; margin-left: 0.5rem\">PATHOGEN</span>\n",
       "</mark>\n",
       "-infected individuals for the prevention of transmission of \n",
       "<mark class=\"entity\" style=\"background: #F67DE3; padding: 0.45em 0.6em; margin: 0 0.25em; line-height: 1; border-radius: 0.35em;\">\n",
       "    HIV\n",
       "    <span style=\"font-size: 0.8em; font-weight: bold; line-height: 1; border-radius: 0.35em; vertical-align: middle; margin-left: 0.5rem\">PATHOGEN</span>\n",
       "</mark>\n",
       ".</br>Patients starting \n",
       "<mark class=\"entity\" style=\"background: #7DF6D9; padding: 0.45em 0.6em; margin: 0 0.25em; line-height: 1; border-radius: 0.35em;\">\n",
       "    ART\n",
       "    <span style=\"font-size: 0.8em; font-weight: bold; line-height: 1; border-radius: 0.35em; vertical-align: middle; margin-left: 0.5rem\">MEDICINE</span>\n",
       "</mark>\n",
       " should be willing and able to commit to treatment and understand thebenefits and risks of therapy and the importance of adherence. Patients may \n",
       "<mark class=\"entity\" style=\"background: #FFFF44; padding: 0.45em 0.6em; margin: 0 0.25em; line-height: 1; border-radius: 0.35em;\">\n",
       "    chooseto postpone therapy\n",
       "    <span style=\"font-size: 0.8em; font-weight: bold; line-height: 1; border-radius: 0.35em; vertical-align: middle; margin-left: 0.5rem\">MEDICALCONDITION</span>\n",
       "</mark>\n",
       ", and providers, on a case-by-case basis, may elect to \n",
       "<mark class=\"entity\" style=\"background: #7DF6D9; padding: 0.45em 0.6em; margin: 0 0.25em; line-height: 1; border-radius: 0.35em;\">\n",
       "    defertherapy\n",
       "    <span style=\"font-size: 0.8em; font-weight: bold; line-height: 1; border-radius: 0.35em; vertical-align: middle; margin-left: 0.5rem\">MEDICINE</span>\n",
       "</mark>\n",
       " on the basis of clinical and/or psychosocial factors.</div></span>"
      ],
      "text/plain": [
       "<IPython.core.display.HTML object>"
      ]
     },
     "metadata": {},
     "output_type": "display_data"
    }
   ],
   "source": [
    "nlp_ner = spacy.load(\"output/model-last\")\n",
    "\n",
    "doc = nlp_ner(\"Antiretroviral therapy (ART) is recommended for all HIV-infected\\\n",
    "individuals to reduce the risk of disease progression.\\nART also is recommended \\\n",
    "for HIV-infected individuals for the prevention of transmission of HIV.\\nPatients \\\n",
    "starting ART should be willing and able to commit to treatment and understand the\\\n",
    "benefits and risks of therapy and the importance of adherence. Patients may choose\\\n",
    "to postpone therapy, and providers, on a case-by-case basis, may elect to defer\\\n",
    "therapy on the basis of clinical and/or psychosocial factors.\")\n",
    "\n",
    "colors = {\"PATHOGEN\": \"#F67DE3\", \"MEDICINE\": \"#7DF6D9\", \"MEDICALCONDITION\":\"#FFFF44\"}\n",
    "options = {\"colors\": colors} \n",
    "\n",
    "displacy.render(doc, style=\"ent\", options= options, jupyter=True)"
   ]
  },
  {
   "cell_type": "code",
   "execution_count": null,
   "id": "191542c1",
   "metadata": {},
   "outputs": [],
   "source": [
    "def load_file(file_path):\n",
    "    with open(file_path, 'r') as f:\n",
    "        data=json.load(f)\n",
    "    return data"
   ]
  },
  {
   "cell_type": "code",
   "execution_count": null,
   "id": "f1c10a04",
   "metadata": {},
   "outputs": [],
   "source": [
    "data = load_file(file)"
   ]
  },
  {
   "cell_type": "code",
   "execution_count": null,
   "id": "52881d18",
   "metadata": {},
   "outputs": [],
   "source": [
    "# creating training data\n",
    "def training_data():\n",
    "    # Creating training data\n",
    "    training_data = {'classes' : ['MEDICINE', \"MEDICALCONDITION\", \"PATHOGEN\"], 'annotations' : []}\n",
    "    for example in data['examples']:\n",
    "\n",
    "        temp_dict = {}\n",
    "        temp_dict['text'] = example['content']\n",
    "        temp_dict['entities'] = []\n",
    "        for annotation in example['annotations']:\n",
    "            start = annotation['start']\n",
    "            end = annotation['end']\n",
    "            label = annotation['tag_name'].upper()\n",
    "            temp_dict['entities'].append((start, end, label))\n",
    "        training_data['annotations'].append(temp_dict)\n",
    "\n",
    "#     print(training_data)\n",
    "    return training_data"
   ]
  },
  {
   "cell_type": "code",
   "execution_count": null,
   "id": "dd1c67c9",
   "metadata": {},
   "outputs": [],
   "source": [
    "# Convert dataset into docbin object\n",
    "def convert(lang, output_path):\n",
    "    nlp = spacy.blank(lang)\n",
    "    doc_bin=DocBin()\n",
    "    \n",
    "    training_data = training_data()\n",
    "    \n",
    "    for training_example in training_data['annotations']:\n",
    "        text = training_example['text']\n",
    "        labels = training_example['entities']\n",
    "        doc = nlp.make_doc(text)\n",
    "        ents = []\n",
    "        for start, end, label in labels:\n",
    "            span = doc.char_span(start, end, label=label, alignment_mode='contract')\n",
    "            if span is None:\n",
    "                print('Skipping entity')\n",
    "            else:\n",
    "                ents.append(span)\n",
    "        filtered_ents = filter_spans(ents)\n",
    "        doc.ents = filtered_ents\n",
    "        doc_bin.add(doc)\n",
    "\n",
    "    doc_bin.to_disk('training_data.spacy')\n",
    "    "
   ]
  },
  {
   "cell_type": "code",
   "execution_count": null,
   "id": "b5484a67",
   "metadata": {},
   "outputs": [],
   "source": []
  }
 ],
 "metadata": {
  "kernelspec": {
   "display_name": "Python 3 (ipykernel)",
   "language": "python",
   "name": "python3"
  },
  "language_info": {
   "codemirror_mode": {
    "name": "ipython",
    "version": 3
   },
   "file_extension": ".py",
   "mimetype": "text/x-python",
   "name": "python",
   "nbconvert_exporter": "python",
   "pygments_lexer": "ipython3",
   "version": "3.8.16"
  }
 },
 "nbformat": 4,
 "nbformat_minor": 5
}
